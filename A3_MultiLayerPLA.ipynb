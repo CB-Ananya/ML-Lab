{
  "cells": [
    {
      "cell_type": "markdown",
      "metadata": {},
      "source": [
        "## Import necessary libraries "
      ]
    },
    {
      "cell_type": "code",
      "execution_count": 12,
      "metadata": {
        "colab": {
          "base_uri": "https://localhost:8080/"
        },
        "id": "zy-sZsx00VI_",
        "outputId": "205a4e5e-122a-4b54-e6d5-1ae3e1ed3746"
      },
      "outputs": [
        {
          "name": "stdout",
          "output_type": "stream",
          "text": [
            "Requirement already satisfied: opendatasets in c:\\users\\ananya\\appdata\\local\\programs\\python\\python311\\lib\\site-packages (0.1.22)\n",
            "Requirement already satisfied: tqdm in c:\\users\\ananya\\appdata\\local\\programs\\python\\python311\\lib\\site-packages (from opendatasets) (4.66.1)\n",
            "Requirement already satisfied: kaggle in c:\\users\\ananya\\appdata\\local\\programs\\python\\python311\\lib\\site-packages (from opendatasets) (1.6.6)\n",
            "Requirement already satisfied: click in c:\\users\\ananya\\appdata\\local\\programs\\python\\python311\\lib\\site-packages (from opendatasets) (8.1.7)\n",
            "Requirement already satisfied: colorama in c:\\users\\ananya\\appdata\\local\\programs\\python\\python311\\lib\\site-packages (from click->opendatasets) (0.4.6)\n",
            "Requirement already satisfied: six>=1.10 in c:\\users\\ananya\\appdata\\local\\programs\\python\\python311\\lib\\site-packages (from kaggle->opendatasets) (1.16.0)\n",
            "Requirement already satisfied: certifi in c:\\users\\ananya\\appdata\\local\\programs\\python\\python311\\lib\\site-packages (from kaggle->opendatasets) (2023.7.22)\n",
            "Requirement already satisfied: python-dateutil in c:\\users\\ananya\\appdata\\local\\programs\\python\\python311\\lib\\site-packages (from kaggle->opendatasets) (2.8.2)\n",
            "Requirement already satisfied: requests in c:\\users\\ananya\\appdata\\local\\programs\\python\\python311\\lib\\site-packages (from kaggle->opendatasets) (2.31.0)\n",
            "Requirement already satisfied: python-slugify in c:\\users\\ananya\\appdata\\local\\programs\\python\\python311\\lib\\site-packages (from kaggle->opendatasets) (8.0.4)\n",
            "Requirement already satisfied: urllib3 in c:\\users\\ananya\\appdata\\local\\programs\\python\\python311\\lib\\site-packages (from kaggle->opendatasets) (1.26.16)\n",
            "Requirement already satisfied: bleach in c:\\users\\ananya\\appdata\\local\\programs\\python\\python311\\lib\\site-packages (from kaggle->opendatasets) (6.0.0)\n",
            "Requirement already satisfied: webencodings in c:\\users\\ananya\\appdata\\local\\programs\\python\\python311\\lib\\site-packages (from bleach->kaggle->opendatasets) (0.5.1)\n",
            "Requirement already satisfied: text-unidecode>=1.3 in c:\\users\\ananya\\appdata\\local\\programs\\python\\python311\\lib\\site-packages (from python-slugify->kaggle->opendatasets) (1.3)\n",
            "Requirement already satisfied: charset-normalizer<4,>=2 in c:\\users\\ananya\\appdata\\local\\programs\\python\\python311\\lib\\site-packages (from requests->kaggle->opendatasets) (3.2.0)\n",
            "Requirement already satisfied: idna<4,>=2.5 in c:\\users\\ananya\\appdata\\local\\programs\\python\\python311\\lib\\site-packages (from requests->kaggle->opendatasets) (3.4)\n"
          ]
        }
      ],
      "source": [
        "!pip install opendatasets"
      ]
    },
    {
      "cell_type": "code",
      "execution_count": 13,
      "metadata": {
        "id": "kGRD0L0s1MWs"
      },
      "outputs": [],
      "source": [
        "import cv2\n",
        "import matplotlib.pyplot as plt"
      ]
    },
    {
      "cell_type": "code",
      "execution_count": 14,
      "metadata": {
        "colab": {
          "base_uri": "https://localhost:8080/"
        },
        "id": "hjf1A7sq0pBh",
        "outputId": "8780e0a8-76a6-42aa-9c3d-659b151cc77e"
      },
      "outputs": [],
      "source": [
        "import opendatasets as od\n",
        "import pandas as pd\n",
        "\n",
        "#od.download('https://www.kaggle.com/datasets/dhruvildave/english-handwritten-characters-dataset/data')"
      ]
    },
    {
      "cell_type": "markdown",
      "metadata": {},
      "source": [
        "# Load the dataset from CSV file"
      ]
    },
    {
      "cell_type": "code",
      "execution_count": 16,
      "metadata": {
        "colab": {
          "base_uri": "https://localhost:8080/",
          "height": 423
        },
        "id": "KQmtlsW41BtE",
        "outputId": "09fc2c09-7a62-4805-bb69-8d6b02d9091d"
      },
      "outputs": [
        {
          "data": {
            "text/html": [
              "<div>\n",
              "<style scoped>\n",
              "    .dataframe tbody tr th:only-of-type {\n",
              "        vertical-align: middle;\n",
              "    }\n",
              "\n",
              "    .dataframe tbody tr th {\n",
              "        vertical-align: top;\n",
              "    }\n",
              "\n",
              "    .dataframe thead th {\n",
              "        text-align: right;\n",
              "    }\n",
              "</style>\n",
              "<table border=\"1\" class=\"dataframe\">\n",
              "  <thead>\n",
              "    <tr style=\"text-align: right;\">\n",
              "      <th></th>\n",
              "      <th>image</th>\n",
              "      <th>label</th>\n",
              "    </tr>\n",
              "  </thead>\n",
              "  <tbody>\n",
              "    <tr>\n",
              "      <th>0</th>\n",
              "      <td>Img/img001-001.png</td>\n",
              "      <td>0</td>\n",
              "    </tr>\n",
              "    <tr>\n",
              "      <th>1</th>\n",
              "      <td>Img/img001-002.png</td>\n",
              "      <td>0</td>\n",
              "    </tr>\n",
              "    <tr>\n",
              "      <th>2</th>\n",
              "      <td>Img/img001-003.png</td>\n",
              "      <td>0</td>\n",
              "    </tr>\n",
              "    <tr>\n",
              "      <th>3</th>\n",
              "      <td>Img/img001-004.png</td>\n",
              "      <td>0</td>\n",
              "    </tr>\n",
              "    <tr>\n",
              "      <th>4</th>\n",
              "      <td>Img/img001-005.png</td>\n",
              "      <td>0</td>\n",
              "    </tr>\n",
              "    <tr>\n",
              "      <th>...</th>\n",
              "      <td>...</td>\n",
              "      <td>...</td>\n",
              "    </tr>\n",
              "    <tr>\n",
              "      <th>3405</th>\n",
              "      <td>Img/img062-051.png</td>\n",
              "      <td>z</td>\n",
              "    </tr>\n",
              "    <tr>\n",
              "      <th>3406</th>\n",
              "      <td>Img/img062-052.png</td>\n",
              "      <td>z</td>\n",
              "    </tr>\n",
              "    <tr>\n",
              "      <th>3407</th>\n",
              "      <td>Img/img062-053.png</td>\n",
              "      <td>z</td>\n",
              "    </tr>\n",
              "    <tr>\n",
              "      <th>3408</th>\n",
              "      <td>Img/img062-054.png</td>\n",
              "      <td>z</td>\n",
              "    </tr>\n",
              "    <tr>\n",
              "      <th>3409</th>\n",
              "      <td>Img/img062-055.png</td>\n",
              "      <td>z</td>\n",
              "    </tr>\n",
              "  </tbody>\n",
              "</table>\n",
              "<p>3410 rows × 2 columns</p>\n",
              "</div>"
            ],
            "text/plain": [
              "                   image label\n",
              "0     Img/img001-001.png     0\n",
              "1     Img/img001-002.png     0\n",
              "2     Img/img001-003.png     0\n",
              "3     Img/img001-004.png     0\n",
              "4     Img/img001-005.png     0\n",
              "...                  ...   ...\n",
              "3405  Img/img062-051.png     z\n",
              "3406  Img/img062-052.png     z\n",
              "3407  Img/img062-053.png     z\n",
              "3408  Img/img062-054.png     z\n",
              "3409  Img/img062-055.png     z\n",
              "\n",
              "[3410 rows x 2 columns]"
            ]
          },
          "execution_count": 16,
          "metadata": {},
          "output_type": "execute_result"
        }
      ],
      "source": [
        "df = pd.read_csv('archive/english.csv')\n",
        "df"
      ]
    },
    {
      "cell_type": "markdown",
      "metadata": {},
      "source": [
        "# Read an image and display it"
      ]
    },
    {
      "cell_type": "code",
      "execution_count": 18,
      "metadata": {
        "colab": {
          "base_uri": "https://localhost:8080/",
          "height": 452
        },
        "id": "QTks8Ucf1IWQ",
        "outputId": "e8cc74db-5c37-45c1-8a6f-c1916974355a"
      },
      "outputs": [
        {
          "data": {
            "text/plain": [
              "<matplotlib.image.AxesImage at 0x2caae1ba410>"
            ]
          },
          "execution_count": 18,
          "metadata": {},
          "output_type": "execute_result"
        },
        {
          "data": {
            "image/png": "[encoded data removed]",
            "text/plain": [
              "<Figure size 640x480 with 1 Axes>"
            ]
          },
          "metadata": {},
          "output_type": "display_data"
        }
      ],
      "source": [
        "img = cv2.imread('archive/Img/img008-025.png', cv2.IMREAD_GRAYSCALE)\n",
        "plt.imshow(img)"
      ]
    },
    {
      "cell_type": "markdown",
      "metadata": {},
      "source": [
        "# Resize the image and display it again"
      ]
    },
    {
      "cell_type": "code",
      "execution_count": 19,
      "metadata": {
        "colab": {
          "base_uri": "https://localhost:8080/",
          "height": 450
        },
        "id": "5O2wd-f86maY",
        "outputId": "37a2ca48-bade-4560-f5d5-40e3b8f5daf1"
      },
      "outputs": [
        {
          "data": {
            "text/plain": [
              "<matplotlib.image.AxesImage at 0x2caae240a10>"
            ]
          },
          "execution_count": 19,
          "metadata": {},
          "output_type": "execute_result"
        },
        {
          "data": {
            "image/png": "[encoded data removed]",
            "text/plain": [
              "<Figure size 640x480 with 1 Axes>"
            ]
          },
          "metadata": {},
          "output_type": "display_data"
        }
      ],
      "source": [
        "img = cv2.resize(img,(100,100))\n",
        "plt.imshow(img)"
      ]
    },
    {
      "cell_type": "code",
      "execution_count": 20,
      "metadata": {
        "colab": {
          "base_uri": "https://localhost:8080/"
        },
        "id": "7EqGZTc31w5X",
        "outputId": "b408d655-c568-4c29-c286-78756d7f67c3"
      },
      "outputs": [
        {
          "data": {
            "text/plain": [
              "(100, 100)"
            ]
          },
          "execution_count": 20,
          "metadata": {},
          "output_type": "execute_result"
        }
      ],
      "source": [
        "img.shape"
      ]
    },
    {
      "cell_type": "markdown",
      "metadata": {},
      "source": [
        "# Add the image path to the dataset"
      ]
    },
    {
      "cell_type": "code",
      "execution_count": 21,
      "metadata": {
        "id": "jAdO2_SC5cka"
      },
      "outputs": [],
      "source": [
        "df['image'] = 'archive/' + df['image']"
      ]
    },
    {
      "cell_type": "markdown",
      "metadata": {},
      "source": [
        "# Preprocess the labels"
      ]
    },
    {
      "cell_type": "code",
      "execution_count": 22,
      "metadata": {
        "id": "3BPxJsaL-wlQ"
      },
      "outputs": [],
      "source": [
        "from sklearn import preprocessing\n",
        "\n",
        "# label_encoder object knows\n",
        "# how to understand word labels.\n",
        "label_encoder = preprocessing.LabelEncoder()\n",
        "\n",
        "# Encode labels in column 'species'.\n",
        "df['label']= label_encoder.fit_transform(df['label'])\n"
      ]
    },
    {
      "cell_type": "code",
      "execution_count": 23,
      "metadata": {
        "colab": {
          "base_uri": "https://localhost:8080/",
          "height": 423
        },
        "id": "2M5Fg-BB-6bF",
        "outputId": "aa37e8b6-3135-4e4d-d287-613faba71170"
      },
      "outputs": [
        {
          "data": {
            "text/html": [
              "<div>\n",
              "<style scoped>\n",
              "    .dataframe tbody tr th:only-of-type {\n",
              "        vertical-align: middle;\n",
              "    }\n",
              "\n",
              "    .dataframe tbody tr th {\n",
              "        vertical-align: top;\n",
              "    }\n",
              "\n",
              "    .dataframe thead th {\n",
              "        text-align: right;\n",
              "    }\n",
              "</style>\n",
              "<table border=\"1\" class=\"dataframe\">\n",
              "  <thead>\n",
              "    <tr style=\"text-align: right;\">\n",
              "      <th></th>\n",
              "      <th>image</th>\n",
              "      <th>label</th>\n",
              "    </tr>\n",
              "  </thead>\n",
              "  <tbody>\n",
              "    <tr>\n",
              "      <th>0</th>\n",
              "      <td>archive/Img/img001-001.png</td>\n",
              "      <td>0</td>\n",
              "    </tr>\n",
              "    <tr>\n",
              "      <th>1</th>\n",
              "      <td>archive/Img/img001-002.png</td>\n",
              "      <td>0</td>\n",
              "    </tr>\n",
              "    <tr>\n",
              "      <th>2</th>\n",
              "      <td>archive/Img/img001-003.png</td>\n",
              "      <td>0</td>\n",
              "    </tr>\n",
              "    <tr>\n",
              "      <th>3</th>\n",
              "      <td>archive/Img/img001-004.png</td>\n",
              "      <td>0</td>\n",
              "    </tr>\n",
              "    <tr>\n",
              "      <th>4</th>\n",
              "      <td>archive/Img/img001-005.png</td>\n",
              "      <td>0</td>\n",
              "    </tr>\n",
              "    <tr>\n",
              "      <th>...</th>\n",
              "      <td>...</td>\n",
              "      <td>...</td>\n",
              "    </tr>\n",
              "    <tr>\n",
              "      <th>3405</th>\n",
              "      <td>archive/Img/img062-051.png</td>\n",
              "      <td>61</td>\n",
              "    </tr>\n",
              "    <tr>\n",
              "      <th>3406</th>\n",
              "      <td>archive/Img/img062-052.png</td>\n",
              "      <td>61</td>\n",
              "    </tr>\n",
              "    <tr>\n",
              "      <th>3407</th>\n",
              "      <td>archive/Img/img062-053.png</td>\n",
              "      <td>61</td>\n",
              "    </tr>\n",
              "    <tr>\n",
              "      <th>3408</th>\n",
              "      <td>archive/Img/img062-054.png</td>\n",
              "      <td>61</td>\n",
              "    </tr>\n",
              "    <tr>\n",
              "      <th>3409</th>\n",
              "      <td>archive/Img/img062-055.png</td>\n",
              "      <td>61</td>\n",
              "    </tr>\n",
              "  </tbody>\n",
              "</table>\n",
              "<p>3410 rows × 2 columns</p>\n",
              "</div>"
            ],
            "text/plain": [
              "                           image  label\n",
              "0     archive/Img/img001-001.png      0\n",
              "1     archive/Img/img001-002.png      0\n",
              "2     archive/Img/img001-003.png      0\n",
              "3     archive/Img/img001-004.png      0\n",
              "4     archive/Img/img001-005.png      0\n",
              "...                          ...    ...\n",
              "3405  archive/Img/img062-051.png     61\n",
              "3406  archive/Img/img062-052.png     61\n",
              "3407  archive/Img/img062-053.png     61\n",
              "3408  archive/Img/img062-054.png     61\n",
              "3409  archive/Img/img062-055.png     61\n",
              "\n",
              "[3410 rows x 2 columns]"
            ]
          },
          "execution_count": 23,
          "metadata": {},
          "output_type": "execute_result"
        }
      ],
      "source": [
        "df"
      ]
    },
    {
      "cell_type": "markdown",
      "metadata": {},
      "source": [
        "# Load the images and labels into lists"
      ]
    },
    {
      "cell_type": "code",
      "execution_count": 24,
      "metadata": {
        "id": "MDYDfSzA2RZx"
      },
      "outputs": [],
      "source": [
        "images = []\n",
        "labels = []\n",
        "\n",
        "def imageLoad(row):\n",
        "  path = row['image']\n",
        "  img = cv2.imread(path)\n",
        "  img = cv2.cvtColor(img,cv2.COLOR_BGR2GRAY)\n",
        "  img = cv2.resize(img,(100,100))\n",
        "  images.append(img)\n",
        "  labels.append(row['label'])\n"
      ]
    },
    {
      "cell_type": "code",
      "execution_count": 25,
      "metadata": {
        "colab": {
          "base_uri": "https://localhost:8080/"
        },
        "id": "ma2duAFf2ylG",
        "outputId": "a72ef846-1c62-4830-b7cb-ce00ab47253a"
      },
      "outputs": [
        {
          "data": {
            "text/plain": [
              "0       None\n",
              "1       None\n",
              "2       None\n",
              "3       None\n",
              "4       None\n",
              "        ... \n",
              "3405    None\n",
              "3406    None\n",
              "3407    None\n",
              "3408    None\n",
              "3409    None\n",
              "Length: 3410, dtype: object"
            ]
          },
          "execution_count": 25,
          "metadata": {},
          "output_type": "execute_result"
        }
      ],
      "source": [
        "df.apply(imageLoad,axis=1)"
      ]
    },
    {
      "cell_type": "markdown",
      "metadata": {},
      "source": [
        "# Split the dataset into training and testing sets"
      ]
    },
    {
      "cell_type": "code",
      "execution_count": 26,
      "metadata": {
        "id": "jRotSJw1BNm3"
      },
      "outputs": [],
      "source": [
        "from sklearn.model_selection import train_test_split\n",
        "X_train, X_test, y_train, y_test = train_test_split(images,labels , random_state=102,  test_size=0.20,  shuffle=True)"
      ]
    },
    {
      "cell_type": "markdown",
      "metadata": {},
      "source": [
        "# Convert the datasets to tensors"
      ]
    },
    {
      "cell_type": "code",
      "execution_count": 27,
      "metadata": {
        "id": "j54iApak_pGL"
      },
      "outputs": [],
      "source": [
        "import tensorflow as tf\n",
        "\n",
        "X_train = tf.convert_to_tensor(X_train)\n",
        "\n",
        "X_test = tf.convert_to_tensor(X_test)\n",
        "y_train = tf.convert_to_tensor(y_train)\n",
        "y_test = tf.convert_to_tensor(y_test)\n",
        "\n",
        "\n"
      ]
    },
    {
      "cell_type": "markdown",
      "metadata": {},
      "source": [
        "# Normalize the pixel values"
      ]
    },
    {
      "cell_type": "code",
      "execution_count": null,
      "metadata": {},
      "outputs": [],
      "source": [
        "\n",
        "X_train = X_train/255\n",
        "X_test = X_test/255"
      ]
    },
    {
      "cell_type": "markdown",
      "metadata": {},
      "source": [
        "# Define the neural network model"
      ]
    },
    {
      "cell_type": "code",
      "execution_count": 29,
      "metadata": {
        "id": "bWLc6KprAN4w"
      },
      "outputs": [],
      "source": [
        "import tensorflow as tf\n",
        "\n",
        "from tensorflow.keras import datasets, layers, models\n",
        "import matplotlib.pyplot as plt"
      ]
    },
    {
      "cell_type": "code",
      "execution_count": 30,
      "metadata": {
        "id": "WHNnMiYyASK8"
      },
      "outputs": [],
      "source": [
        "model = models.Sequential()\n",
        "model.add(layers.Flatten(input_shape=(100,100,1)))\n",
        "model.add(layers.Dense(728,activation='relu'))\n",
        "model.add(layers.Dense(500,activation='relu'))\n",
        "model.add(layers.Dense(200,activation='relu'))\n",
        "model.add(layers.Dense(100,activation='relu'))\n",
        "model.add(layers.Dense(60,activation='relu'))\n",
        "model.add(layers.Dense(62,activation='softmax'))\n"
      ]
    },
    {
      "cell_type": "code",
      "execution_count": 31,
      "metadata": {
        "colab": {
          "base_uri": "https://localhost:8080/"
        },
        "id": "4M5hCgx7AYz-",
        "outputId": "741145cb-f230-480f-c889-f17a3dd94a64"
      },
      "outputs": [
        {
          "name": "stdout",
          "output_type": "stream",
          "text": [
            "Model: \"sequential\"\n",
            "_________________________________________________________________\n",
            " Layer (type)                Output Shape              Param #   \n",
            "=================================================================\n",
            " flatten (Flatten)           (None, 10000)             0         \n",
            "                                                                 \n",
            " dense (Dense)               (None, 728)               7280728   \n",
            "                                                                 \n",
            " dense_1 (Dense)             (None, 500)               364500    \n",
            "                                                                 \n",
            " dense_2 (Dense)             (None, 200)               100200    \n",
            "                                                                 \n",
            " dense_3 (Dense)             (None, 100)               20100     \n",
            "                                                                 \n",
            " dense_4 (Dense)             (None, 60)                6060      \n",
            "                                                                 \n",
            " dense_5 (Dense)             (None, 62)                3782      \n",
            "                                                                 \n",
            "=================================================================\n",
            "Total params: 7775370 (29.66 MB)\n",
            "Trainable params: 7775370 (29.66 MB)\n",
            "Non-trainable params: 0 (0.00 Byte)\n",
            "_________________________________________________________________\n"
          ]
        }
      ],
      "source": [
        "model.summary()"
      ]
    },
    {
      "cell_type": "markdown",
      "metadata": {},
      "source": [
        "# Compile the model"
      ]
    },
    {
      "cell_type": "code",
      "execution_count": 32,
      "metadata": {
        "id": "ympfadhZJWch"
      },
      "outputs": [],
      "source": [
        "model.compile(loss='sparse_categorical_crossentropy', optimizer='sgd', metrics=['accuracy'])"
      ]
    },
    {
      "cell_type": "markdown",
      "metadata": {},
      "source": [
        "# Train the model"
      ]
    },
    {
      "cell_type": "code",
      "execution_count": 33,
      "metadata": {
        "colab": {
          "base_uri": "https://localhost:8080/"
        },
        "id": "mGTwP6E2CjjM",
        "outputId": "d33e8051-f892-4fac-f778-890fc0300905"
      },
      "outputs": [
        {
          "name": "stdout",
          "output_type": "stream",
          "text": [
            "Epoch 1/150\n",
            "86/86 [==============================] - 4s 33ms/step - loss: 4.1398 - accuracy: 0.0202 - val_loss: 4.1282 - val_accuracy: 0.0220\n",
            "Epoch 2/150\n",
            "86/86 [==============================] - 3s 30ms/step - loss: 4.1293 - accuracy: 0.0224 - val_loss: 4.1335 - val_accuracy: 0.0235\n",
            "Epoch 3/150\n",
            "86/86 [==============================] - 2s 28ms/step - loss: 4.1276 - accuracy: 0.0169 - val_loss: 4.1257 - val_accuracy: 0.0161\n",
            "Epoch 4/150\n",
            "86/86 [==============================] - 3s 29ms/step - loss: 4.1197 - accuracy: 0.0231 - val_loss: 4.1176 - val_accuracy: 0.0220\n",
            "Epoch 5/150\n",
            "86/86 [==============================] - 3s 29ms/step - loss: 4.1160 - accuracy: 0.0257 - val_loss: 4.1179 - val_accuracy: 0.0220\n",
            "Epoch 6/150\n",
            "86/86 [==============================] - 3s 29ms/step - loss: 4.1096 - accuracy: 0.0224 - val_loss: 4.1000 - val_accuracy: 0.0103\n",
            "Epoch 7/150\n",
            "86/86 [==============================] - 3s 29ms/step - loss: 4.0989 - accuracy: 0.0275 - val_loss: 4.0961 - val_accuracy: 0.0205\n",
            "Epoch 8/150\n",
            "86/86 [==============================] - 3s 30ms/step - loss: 4.0699 - accuracy: 0.0323 - val_loss: 4.1589 - val_accuracy: 0.0191\n",
            "Epoch 9/150\n",
            "86/86 [==============================] - 3s 30ms/step - loss: 4.0528 - accuracy: 0.0334 - val_loss: 4.1805 - val_accuracy: 0.0191\n",
            "Epoch 10/150\n",
            "86/86 [==============================] - 3s 29ms/step - loss: 4.0275 - accuracy: 0.0341 - val_loss: 4.0932 - val_accuracy: 0.0235\n",
            "Epoch 11/150\n",
            "86/86 [==============================] - 3s 30ms/step - loss: 3.9946 - accuracy: 0.0374 - val_loss: 4.1295 - val_accuracy: 0.0161\n",
            "Epoch 12/150\n",
            "86/86 [==============================] - 3s 30ms/step - loss: 3.9512 - accuracy: 0.0517 - val_loss: 3.9452 - val_accuracy: 0.0235\n",
            "Epoch 13/150\n",
            "86/86 [==============================] - 3s 30ms/step - loss: 3.8858 - accuracy: 0.0572 - val_loss: 4.1248 - val_accuracy: 0.0440\n",
            "Epoch 14/150\n",
            "86/86 [==============================] - 3s 30ms/step - loss: 3.8541 - accuracy: 0.0663 - val_loss: 3.7862 - val_accuracy: 0.0836\n",
            "Epoch 15/150\n",
            "86/86 [==============================] - 3s 30ms/step - loss: 3.8019 - accuracy: 0.0737 - val_loss: 4.2007 - val_accuracy: 0.0117\n",
            "Epoch 16/150\n",
            "86/86 [==============================] - 3s 32ms/step - loss: 3.7661 - accuracy: 0.0762 - val_loss: 3.9056 - val_accuracy: 0.0323\n",
            "Epoch 17/150\n",
            "86/86 [==============================] - 3s 30ms/step - loss: 3.6871 - accuracy: 0.0887 - val_loss: 4.0003 - val_accuracy: 0.0674\n",
            "Epoch 18/150\n",
            "86/86 [==============================] - 3s 30ms/step - loss: 3.6586 - accuracy: 0.0894 - val_loss: 4.2397 - val_accuracy: 0.0367\n",
            "Epoch 19/150\n",
            "86/86 [==============================] - 3s 30ms/step - loss: 3.6168 - accuracy: 0.0953 - val_loss: 3.9081 - val_accuracy: 0.0601\n",
            "Epoch 20/150\n",
            "86/86 [==============================] - 3s 31ms/step - loss: 3.5465 - accuracy: 0.1096 - val_loss: 4.1869 - val_accuracy: 0.0425\n",
            "Epoch 21/150\n",
            "86/86 [==============================] - 3s 30ms/step - loss: 3.5223 - accuracy: 0.1103 - val_loss: 3.5221 - val_accuracy: 0.1056\n",
            "Epoch 22/150\n",
            "86/86 [==============================] - 3s 30ms/step - loss: 3.4611 - accuracy: 0.1224 - val_loss: 3.6566 - val_accuracy: 0.0836\n",
            "Epoch 23/150\n",
            "86/86 [==============================] - 3s 31ms/step - loss: 3.4236 - accuracy: 0.1301 - val_loss: 3.6118 - val_accuracy: 0.0909\n",
            "Epoch 24/150\n",
            "86/86 [==============================] - 3s 30ms/step - loss: 3.3715 - accuracy: 0.1422 - val_loss: 4.3091 - val_accuracy: 0.0455\n",
            "Epoch 25/150\n",
            "86/86 [==============================] - 3s 30ms/step - loss: 3.3213 - accuracy: 0.1525 - val_loss: 4.0704 - val_accuracy: 0.0484\n",
            "Epoch 26/150\n",
            "86/86 [==============================] - 3s 32ms/step - loss: 3.2627 - accuracy: 0.1620 - val_loss: 3.4400 - val_accuracy: 0.0953\n",
            "Epoch 27/150\n",
            "86/86 [==============================] - 3s 32ms/step - loss: 3.2165 - accuracy: 0.1800 - val_loss: 4.0521 - val_accuracy: 0.0587\n",
            "Epoch 28/150\n",
            "86/86 [==============================] - 3s 32ms/step - loss: 3.1718 - accuracy: 0.1774 - val_loss: 3.3710 - val_accuracy: 0.1158\n",
            "Epoch 29/150\n",
            "86/86 [==============================] - 3s 31ms/step - loss: 3.1477 - accuracy: 0.1877 - val_loss: 3.5032 - val_accuracy: 0.1085\n",
            "Epoch 30/150\n",
            "86/86 [==============================] - 3s 31ms/step - loss: 3.0904 - accuracy: 0.2031 - val_loss: 3.2707 - val_accuracy: 0.1466\n",
            "Epoch 31/150\n",
            "86/86 [==============================] - 3s 36ms/step - loss: 3.0197 - accuracy: 0.2097 - val_loss: 3.3154 - val_accuracy: 0.1217\n",
            "Epoch 32/150\n",
            "86/86 [==============================] - 3s 31ms/step - loss: 3.0372 - accuracy: 0.2152 - val_loss: 4.0587 - val_accuracy: 0.0616\n",
            "Epoch 33/150\n",
            "86/86 [==============================] - 3s 32ms/step - loss: 2.9381 - accuracy: 0.2309 - val_loss: 3.4804 - val_accuracy: 0.1129\n",
            "Epoch 34/150\n",
            "86/86 [==============================] - 3s 33ms/step - loss: 2.9189 - accuracy: 0.2386 - val_loss: 3.0531 - val_accuracy: 0.1994\n",
            "Epoch 35/150\n",
            "86/86 [==============================] - 3s 32ms/step - loss: 2.9219 - accuracy: 0.2262 - val_loss: 3.0998 - val_accuracy: 0.1935\n",
            "Epoch 36/150\n",
            "86/86 [==============================] - 3s 31ms/step - loss: 2.8449 - accuracy: 0.2507 - val_loss: 3.4858 - val_accuracy: 0.1173\n",
            "Epoch 37/150\n",
            "86/86 [==============================] - 3s 31ms/step - loss: 2.7852 - accuracy: 0.2691 - val_loss: 3.6151 - val_accuracy: 0.1026\n",
            "Epoch 38/150\n",
            "86/86 [==============================] - 3s 31ms/step - loss: 2.7274 - accuracy: 0.2867 - val_loss: 2.9975 - val_accuracy: 0.2331\n",
            "Epoch 39/150\n",
            "86/86 [==============================] - 3s 32ms/step - loss: 2.7379 - accuracy: 0.2650 - val_loss: 2.8751 - val_accuracy: 0.2155\n",
            "Epoch 40/150\n",
            "86/86 [==============================] - 3s 31ms/step - loss: 2.6755 - accuracy: 0.2870 - val_loss: 3.4319 - val_accuracy: 0.1481\n",
            "Epoch 41/150\n",
            "86/86 [==============================] - 3s 31ms/step - loss: 2.6171 - accuracy: 0.3006 - val_loss: 4.2460 - val_accuracy: 0.1026\n",
            "Epoch 42/150\n",
            "86/86 [==============================] - 3s 30ms/step - loss: 2.6244 - accuracy: 0.2933 - val_loss: 3.3947 - val_accuracy: 0.1525\n",
            "Epoch 43/150\n",
            "86/86 [==============================] - 3s 31ms/step - loss: 2.5804 - accuracy: 0.3079 - val_loss: 3.6054 - val_accuracy: 0.1378\n",
            "Epoch 44/150\n",
            "86/86 [==============================] - 3s 33ms/step - loss: 2.5519 - accuracy: 0.3076 - val_loss: 2.8019 - val_accuracy: 0.2361\n",
            "Epoch 45/150\n",
            "86/86 [==============================] - 3s 31ms/step - loss: 2.5086 - accuracy: 0.3156 - val_loss: 3.1829 - val_accuracy: 0.1701\n",
            "Epoch 46/150\n",
            "86/86 [==============================] - 3s 32ms/step - loss: 2.4804 - accuracy: 0.3391 - val_loss: 3.0382 - val_accuracy: 0.2009\n",
            "Epoch 47/150\n",
            "86/86 [==============================] - 3s 30ms/step - loss: 2.4464 - accuracy: 0.3391 - val_loss: 3.2072 - val_accuracy: 0.1745\n",
            "Epoch 48/150\n",
            "86/86 [==============================] - 3s 31ms/step - loss: 2.3567 - accuracy: 0.3625 - val_loss: 3.1787 - val_accuracy: 0.2053\n",
            "Epoch 49/150\n",
            "86/86 [==============================] - 3s 31ms/step - loss: 2.3449 - accuracy: 0.3545 - val_loss: 3.9311 - val_accuracy: 0.1026\n",
            "Epoch 50/150\n",
            "86/86 [==============================] - 3s 32ms/step - loss: 2.3141 - accuracy: 0.3691 - val_loss: 4.3240 - val_accuracy: 0.0997\n",
            "Epoch 51/150\n",
            "86/86 [==============================] - 3s 32ms/step - loss: 2.3160 - accuracy: 0.3713 - val_loss: 2.6698 - val_accuracy: 0.2757\n",
            "Epoch 52/150\n",
            "86/86 [==============================] - 3s 31ms/step - loss: 2.2473 - accuracy: 0.3746 - val_loss: 3.2634 - val_accuracy: 0.1598\n",
            "Epoch 53/150\n",
            "86/86 [==============================] - 3s 34ms/step - loss: 2.2457 - accuracy: 0.3812 - val_loss: 2.5210 - val_accuracy: 0.3314\n",
            "Epoch 54/150\n",
            "86/86 [==============================] - 3s 30ms/step - loss: 2.1838 - accuracy: 0.3937 - val_loss: 2.9612 - val_accuracy: 0.2185\n",
            "Epoch 55/150\n",
            "86/86 [==============================] - 3s 32ms/step - loss: 2.1110 - accuracy: 0.4062 - val_loss: 3.6061 - val_accuracy: 0.1496\n",
            "Epoch 56/150\n",
            "86/86 [==============================] - 3s 31ms/step - loss: 2.1536 - accuracy: 0.4003 - val_loss: 2.9849 - val_accuracy: 0.2361\n",
            "Epoch 57/150\n",
            "86/86 [==============================] - 3s 31ms/step - loss: 2.0463 - accuracy: 0.4399 - val_loss: 2.6732 - val_accuracy: 0.2830\n",
            "Epoch 58/150\n",
            "86/86 [==============================] - 3s 32ms/step - loss: 2.1184 - accuracy: 0.4058 - val_loss: 4.3034 - val_accuracy: 0.1026\n",
            "Epoch 59/150\n",
            "86/86 [==============================] - 3s 34ms/step - loss: 2.0756 - accuracy: 0.4201 - val_loss: 2.6085 - val_accuracy: 0.3167\n",
            "Epoch 60/150\n",
            "86/86 [==============================] - 3s 31ms/step - loss: 1.9564 - accuracy: 0.4483 - val_loss: 3.1792 - val_accuracy: 0.2155\n",
            "Epoch 61/150\n",
            "86/86 [==============================] - 3s 31ms/step - loss: 1.9567 - accuracy: 0.4428 - val_loss: 3.2416 - val_accuracy: 0.2229\n",
            "Epoch 62/150\n",
            "86/86 [==============================] - 3s 31ms/step - loss: 1.9168 - accuracy: 0.4523 - val_loss: 2.6679 - val_accuracy: 0.3196\n",
            "Epoch 63/150\n",
            "86/86 [==============================] - 3s 31ms/step - loss: 1.8610 - accuracy: 0.4666 - val_loss: 2.7036 - val_accuracy: 0.2859\n",
            "Epoch 64/150\n",
            "86/86 [==============================] - 3s 31ms/step - loss: 1.8731 - accuracy: 0.4534 - val_loss: 3.9003 - val_accuracy: 0.1906\n",
            "Epoch 65/150\n",
            "86/86 [==============================] - 3s 32ms/step - loss: 1.8251 - accuracy: 0.4784 - val_loss: 3.3120 - val_accuracy: 0.1642\n",
            "Epoch 66/150\n",
            "86/86 [==============================] - 3s 31ms/step - loss: 1.7972 - accuracy: 0.4879 - val_loss: 3.5212 - val_accuracy: 0.2126\n",
            "Epoch 67/150\n",
            "86/86 [==============================] - 3s 32ms/step - loss: 1.7884 - accuracy: 0.4938 - val_loss: 3.4576 - val_accuracy: 0.1994\n",
            "Epoch 68/150\n",
            "86/86 [==============================] - 3s 31ms/step - loss: 1.7248 - accuracy: 0.5084 - val_loss: 3.5214 - val_accuracy: 0.2053\n",
            "Epoch 69/150\n",
            "86/86 [==============================] - 3s 32ms/step - loss: 1.6656 - accuracy: 0.5220 - val_loss: 2.7967 - val_accuracy: 0.3196\n",
            "Epoch 70/150\n",
            "86/86 [==============================] - 3s 31ms/step - loss: 1.6342 - accuracy: 0.5238 - val_loss: 3.2141 - val_accuracy: 0.2229\n",
            "Epoch 71/150\n",
            "86/86 [==============================] - 3s 30ms/step - loss: 1.6079 - accuracy: 0.5319 - val_loss: 2.2730 - val_accuracy: 0.4326\n",
            "Epoch 72/150\n",
            "86/86 [==============================] - 3s 31ms/step - loss: 1.5692 - accuracy: 0.5370 - val_loss: 2.5639 - val_accuracy: 0.3328\n",
            "Epoch 73/150\n",
            "86/86 [==============================] - 3s 30ms/step - loss: 1.5566 - accuracy: 0.5407 - val_loss: 2.5149 - val_accuracy: 0.3666\n",
            "Epoch 74/150\n",
            "86/86 [==============================] - 3s 30ms/step - loss: 1.5310 - accuracy: 0.5436 - val_loss: 2.7843 - val_accuracy: 0.2889\n",
            "Epoch 75/150\n",
            "86/86 [==============================] - 3s 31ms/step - loss: 1.5057 - accuracy: 0.5513 - val_loss: 3.2242 - val_accuracy: 0.2346\n",
            "Epoch 76/150\n",
            "86/86 [==============================] - 3s 30ms/step - loss: 1.4150 - accuracy: 0.5847 - val_loss: 3.0998 - val_accuracy: 0.3343\n",
            "Epoch 77/150\n",
            "86/86 [==============================] - 3s 31ms/step - loss: 1.4983 - accuracy: 0.5587 - val_loss: 2.4198 - val_accuracy: 0.3328\n",
            "Epoch 78/150\n",
            "86/86 [==============================] - 3s 31ms/step - loss: 1.3897 - accuracy: 0.5850 - val_loss: 3.1071 - val_accuracy: 0.2551\n",
            "Epoch 79/150\n",
            "86/86 [==============================] - 3s 31ms/step - loss: 1.3780 - accuracy: 0.5898 - val_loss: 3.2071 - val_accuracy: 0.2830\n",
            "Epoch 80/150\n",
            "86/86 [==============================] - 3s 31ms/step - loss: 1.3987 - accuracy: 0.5821 - val_loss: 2.2866 - val_accuracy: 0.4120\n",
            "Epoch 81/150\n",
            "86/86 [==============================] - 3s 31ms/step - loss: 1.3038 - accuracy: 0.6092 - val_loss: 2.9664 - val_accuracy: 0.3152\n",
            "Epoch 82/150\n",
            "86/86 [==============================] - 3s 31ms/step - loss: 1.2737 - accuracy: 0.6092 - val_loss: 2.5701 - val_accuracy: 0.3710\n",
            "Epoch 83/150\n",
            "86/86 [==============================] - 3s 30ms/step - loss: 1.2907 - accuracy: 0.6136 - val_loss: 2.1712 - val_accuracy: 0.4076\n",
            "Epoch 84/150\n",
            "86/86 [==============================] - 3s 33ms/step - loss: 1.2829 - accuracy: 0.6096 - val_loss: 2.2144 - val_accuracy: 0.4252\n",
            "Epoch 85/150\n",
            "86/86 [==============================] - 3s 31ms/step - loss: 1.2351 - accuracy: 0.6294 - val_loss: 2.4923 - val_accuracy: 0.3695\n",
            "Epoch 86/150\n",
            "86/86 [==============================] - 3s 31ms/step - loss: 1.2278 - accuracy: 0.6316 - val_loss: 2.8972 - val_accuracy: 0.2859\n",
            "Epoch 87/150\n",
            "86/86 [==============================] - 3s 31ms/step - loss: 1.1775 - accuracy: 0.6422 - val_loss: 2.2766 - val_accuracy: 0.4208\n",
            "Epoch 88/150\n",
            "86/86 [==============================] - 3s 31ms/step - loss: 1.1356 - accuracy: 0.6492 - val_loss: 2.8342 - val_accuracy: 0.3651\n",
            "Epoch 89/150\n",
            "86/86 [==============================] - 3s 32ms/step - loss: 1.1854 - accuracy: 0.6408 - val_loss: 2.1095 - val_accuracy: 0.4296\n",
            "Epoch 90/150\n",
            "86/86 [==============================] - 3s 32ms/step - loss: 1.0953 - accuracy: 0.6624 - val_loss: 2.1086 - val_accuracy: 0.4545\n",
            "Epoch 91/150\n",
            "86/86 [==============================] - 3s 31ms/step - loss: 1.0912 - accuracy: 0.6631 - val_loss: 3.2080 - val_accuracy: 0.3196\n",
            "Epoch 92/150\n",
            "86/86 [==============================] - 3s 31ms/step - loss: 1.0484 - accuracy: 0.6796 - val_loss: 7.1022 - val_accuracy: 0.1041\n",
            "Epoch 93/150\n",
            "86/86 [==============================] - 3s 31ms/step - loss: 1.2375 - accuracy: 0.6433 - val_loss: 2.2658 - val_accuracy: 0.4604\n",
            "Epoch 94/150\n",
            "86/86 [==============================] - 3s 31ms/step - loss: 0.9943 - accuracy: 0.6880 - val_loss: 3.4600 - val_accuracy: 0.3167\n",
            "Epoch 95/150\n",
            "86/86 [==============================] - 3s 31ms/step - loss: 1.0203 - accuracy: 0.6917 - val_loss: 2.2082 - val_accuracy: 0.4560\n",
            "Epoch 96/150\n",
            "86/86 [==============================] - 3s 31ms/step - loss: 0.9294 - accuracy: 0.7056 - val_loss: 4.0039 - val_accuracy: 0.2551\n",
            "Epoch 97/150\n",
            "86/86 [==============================] - 3s 30ms/step - loss: 0.9833 - accuracy: 0.6979 - val_loss: 2.4309 - val_accuracy: 0.4135\n",
            "Epoch 98/150\n",
            "86/86 [==============================] - 3s 31ms/step - loss: 0.9263 - accuracy: 0.7199 - val_loss: 3.1840 - val_accuracy: 0.3211\n",
            "Epoch 99/150\n",
            "86/86 [==============================] - 3s 31ms/step - loss: 0.8656 - accuracy: 0.7353 - val_loss: 2.1505 - val_accuracy: 0.4809\n",
            "Epoch 100/150\n",
            "86/86 [==============================] - 3s 31ms/step - loss: 0.8673 - accuracy: 0.7269 - val_loss: 2.3038 - val_accuracy: 0.4413\n",
            "Epoch 101/150\n",
            "86/86 [==============================] - 3s 31ms/step - loss: 0.8224 - accuracy: 0.7434 - val_loss: 2.0906 - val_accuracy: 0.4736\n",
            "Epoch 102/150\n",
            "86/86 [==============================] - 3s 31ms/step - loss: 0.8642 - accuracy: 0.7298 - val_loss: 6.5675 - val_accuracy: 0.1716\n",
            "Epoch 103/150\n",
            "86/86 [==============================] - 3s 31ms/step - loss: 1.0198 - accuracy: 0.7214 - val_loss: 2.4224 - val_accuracy: 0.4355\n",
            "Epoch 104/150\n",
            "86/86 [==============================] - 3s 31ms/step - loss: 1.0085 - accuracy: 0.7155 - val_loss: 2.2942 - val_accuracy: 0.4604\n",
            "Epoch 105/150\n",
            "86/86 [==============================] - 3s 31ms/step - loss: 0.7349 - accuracy: 0.7621 - val_loss: 2.1612 - val_accuracy: 0.4663\n",
            "Epoch 106/150\n",
            "86/86 [==============================] - 3s 31ms/step - loss: 0.7394 - accuracy: 0.7801 - val_loss: 5.6617 - val_accuracy: 0.1642\n",
            "Epoch 107/150\n",
            "86/86 [==============================] - 3s 30ms/step - loss: 1.0307 - accuracy: 0.7203 - val_loss: 3.0148 - val_accuracy: 0.3519\n",
            "Epoch 108/150\n",
            "86/86 [==============================] - 3s 31ms/step - loss: 0.7103 - accuracy: 0.7793 - val_loss: 2.7989 - val_accuracy: 0.3798\n",
            "Epoch 109/150\n",
            "86/86 [==============================] - 3s 30ms/step - loss: 0.7879 - accuracy: 0.7540 - val_loss: 2.5551 - val_accuracy: 0.4399\n",
            "Epoch 110/150\n",
            "86/86 [==============================] - 3s 32ms/step - loss: 0.7071 - accuracy: 0.7764 - val_loss: 2.4797 - val_accuracy: 0.4545\n",
            "Epoch 111/150\n",
            "86/86 [==============================] - 3s 31ms/step - loss: 0.6333 - accuracy: 0.7955 - val_loss: 3.9926 - val_accuracy: 0.2742\n",
            "Epoch 112/150\n",
            "86/86 [==============================] - 3s 32ms/step - loss: 0.8890 - accuracy: 0.7427 - val_loss: 3.7355 - val_accuracy: 0.2918\n",
            "Epoch 113/150\n",
            "86/86 [==============================] - 3s 30ms/step - loss: 0.7859 - accuracy: 0.7687 - val_loss: 2.2741 - val_accuracy: 0.4736\n",
            "Epoch 114/150\n",
            "86/86 [==============================] - 3s 31ms/step - loss: 0.5969 - accuracy: 0.8079 - val_loss: 2.3119 - val_accuracy: 0.4487\n",
            "Epoch 115/150\n",
            "86/86 [==============================] - 3s 31ms/step - loss: 0.5530 - accuracy: 0.8262 - val_loss: 2.0649 - val_accuracy: 0.5308\n",
            "Epoch 116/150\n",
            "86/86 [==============================] - 3s 31ms/step - loss: 0.5772 - accuracy: 0.8204 - val_loss: 2.5847 - val_accuracy: 0.4619\n",
            "Epoch 117/150\n",
            "86/86 [==============================] - 3s 31ms/step - loss: 0.5293 - accuracy: 0.8343 - val_loss: 2.6310 - val_accuracy: 0.4560\n",
            "Epoch 118/150\n",
            "86/86 [==============================] - 3s 31ms/step - loss: 0.5786 - accuracy: 0.8163 - val_loss: 3.0971 - val_accuracy: 0.4340\n",
            "Epoch 119/150\n",
            "86/86 [==============================] - 3s 31ms/step - loss: 0.5898 - accuracy: 0.8229 - val_loss: 2.3542 - val_accuracy: 0.4853\n",
            "Epoch 120/150\n",
            "86/86 [==============================] - 3s 32ms/step - loss: 0.4117 - accuracy: 0.8735 - val_loss: 2.1593 - val_accuracy: 0.5249\n",
            "Epoch 121/150\n",
            "86/86 [==============================] - 3s 31ms/step - loss: 0.5108 - accuracy: 0.8442 - val_loss: 4.7562 - val_accuracy: 0.2713\n",
            "Epoch 122/150\n",
            "86/86 [==============================] - 3s 32ms/step - loss: 0.5993 - accuracy: 0.8266 - val_loss: 3.6787 - val_accuracy: 0.3358\n",
            "Epoch 123/150\n",
            "86/86 [==============================] - 3s 32ms/step - loss: 0.4795 - accuracy: 0.8541 - val_loss: 2.2448 - val_accuracy: 0.5220\n",
            "Epoch 124/150\n",
            "86/86 [==============================] - 3s 31ms/step - loss: 0.6873 - accuracy: 0.8178 - val_loss: 2.0232 - val_accuracy: 0.5425\n",
            "Epoch 125/150\n",
            "86/86 [==============================] - 3s 31ms/step - loss: 0.3937 - accuracy: 0.8772 - val_loss: 5.6609 - val_accuracy: 0.2522\n",
            "Epoch 126/150\n",
            "86/86 [==============================] - 3s 32ms/step - loss: 0.6407 - accuracy: 0.8299 - val_loss: 2.2325 - val_accuracy: 0.5323\n",
            "Epoch 127/150\n",
            "86/86 [==============================] - 3s 31ms/step - loss: 0.4662 - accuracy: 0.8618 - val_loss: 2.7854 - val_accuracy: 0.4296\n",
            "Epoch 128/150\n",
            "86/86 [==============================] - 3s 31ms/step - loss: 0.4288 - accuracy: 0.8658 - val_loss: 3.4640 - val_accuracy: 0.3548\n",
            "Epoch 129/150\n",
            "86/86 [==============================] - 3s 32ms/step - loss: 0.5114 - accuracy: 0.8673 - val_loss: 2.1963 - val_accuracy: 0.5279\n",
            "Epoch 130/150\n",
            "86/86 [==============================] - 3s 31ms/step - loss: 0.2731 - accuracy: 0.9190 - val_loss: 2.8301 - val_accuracy: 0.4795\n",
            "Epoch 131/150\n",
            "86/86 [==============================] - 3s 32ms/step - loss: 0.3916 - accuracy: 0.8746 - val_loss: 3.2845 - val_accuracy: 0.3930\n",
            "Epoch 132/150\n",
            "86/86 [==============================] - 3s 31ms/step - loss: 0.4558 - accuracy: 0.8600 - val_loss: 3.1374 - val_accuracy: 0.4252\n",
            "Epoch 133/150\n",
            "86/86 [==============================] - 3s 32ms/step - loss: 0.3047 - accuracy: 0.9109 - val_loss: 2.8763 - val_accuracy: 0.4326\n",
            "Epoch 134/150\n",
            "86/86 [==============================] - 3s 31ms/step - loss: 0.3333 - accuracy: 0.8941 - val_loss: 7.1154 - val_accuracy: 0.1877\n",
            "Epoch 135/150\n",
            "86/86 [==============================] - 3s 33ms/step - loss: 0.8380 - accuracy: 0.7837 - val_loss: 2.1221 - val_accuracy: 0.5293\n",
            "Epoch 136/150\n",
            "86/86 [==============================] - 3s 31ms/step - loss: 0.2697 - accuracy: 0.9212 - val_loss: 4.1337 - val_accuracy: 0.3930\n",
            "Epoch 137/150\n",
            "86/86 [==============================] - 3s 31ms/step - loss: 0.3748 - accuracy: 0.8834 - val_loss: 2.2416 - val_accuracy: 0.5484\n",
            "Epoch 138/150\n",
            "86/86 [==============================] - 3s 31ms/step - loss: 0.7172 - accuracy: 0.8149 - val_loss: 2.4296 - val_accuracy: 0.4912\n",
            "Epoch 139/150\n",
            "86/86 [==============================] - 3s 31ms/step - loss: 0.2512 - accuracy: 0.9256 - val_loss: 2.2887 - val_accuracy: 0.5543\n",
            "Epoch 140/150\n",
            "86/86 [==============================] - 3s 31ms/step - loss: 0.2005 - accuracy: 0.9457 - val_loss: 4.0899 - val_accuracy: 0.3988\n",
            "Epoch 141/150\n",
            "86/86 [==============================] - 3s 31ms/step - loss: 0.5026 - accuracy: 0.8794 - val_loss: 2.2177 - val_accuracy: 0.5587\n",
            "Epoch 142/150\n",
            "86/86 [==============================] - 3s 31ms/step - loss: 0.1771 - accuracy: 0.9498 - val_loss: 3.3524 - val_accuracy: 0.4589\n",
            "Epoch 143/150\n",
            "86/86 [==============================] - 3s 32ms/step - loss: 0.5292 - accuracy: 0.8512 - val_loss: 2.2892 - val_accuracy: 0.5176\n",
            "Epoch 144/150\n",
            "86/86 [==============================] - 3s 31ms/step - loss: 0.1859 - accuracy: 0.9501 - val_loss: 2.4274 - val_accuracy: 0.5440\n",
            "Epoch 145/150\n",
            "86/86 [==============================] - 3s 31ms/step - loss: 0.1556 - accuracy: 0.9586 - val_loss: 2.5070 - val_accuracy: 0.5587\n",
            "Epoch 146/150\n",
            "86/86 [==============================] - 3s 31ms/step - loss: 0.1495 - accuracy: 0.9608 - val_loss: 2.3368 - val_accuracy: 0.5718\n",
            "Epoch 147/150\n",
            "86/86 [==============================] - 3s 32ms/step - loss: 0.1551 - accuracy: 0.9575 - val_loss: 3.1436 - val_accuracy: 0.4633\n",
            "Epoch 148/150\n",
            "86/86 [==============================] - 3s 34ms/step - loss: 0.4842 - accuracy: 0.8695 - val_loss: 2.2966 - val_accuracy: 0.5630\n",
            "Epoch 149/150\n",
            "86/86 [==============================] - 3s 31ms/step - loss: 0.1592 - accuracy: 0.9578 - val_loss: 3.1963 - val_accuracy: 0.4472\n",
            "Epoch 150/150\n",
            "86/86 [==============================] - 3s 32ms/step - loss: 0.5890 - accuracy: 0.8735 - val_loss: 2.3265 - val_accuracy: 0.5704\n"
          ]
        }
      ],
      "source": [
        "history = model.fit(X_train, y_train, epochs=150,\n",
        "                    validation_data=(X_test, y_test))"
      ]
    },
    {
      "cell_type": "markdown",
      "metadata": {},
      "source": [
        "# Plot the accuracy and loss of the model"
      ]
    },
    {
      "cell_type": "code",
      "execution_count": 34,
      "metadata": {
        "colab": {
          "base_uri": "https://localhost:8080/",
          "height": 489
        },
        "id": "wT4HGNNRC4F-",
        "outputId": "6d545bbc-4aaf-4d28-d97e-6d2f4e3046f3"
      },
      "outputs": [
        {
          "data": {
            "text/plain": [
              "<matplotlib.legend.Legend at 0x2cac9b9e450>"
            ]
          },
          "execution_count": 34,
          "metadata": {},
          "output_type": "execute_result"
        },
        {
          "data": {
            "image/png": "[encoded data removed]",
            "text/plain": [
              "<Figure size 640x480 with 1 Axes>"
            ]
          },
          "metadata": {},
          "output_type": "display_data"
        }
      ],
      "source": [
        "plt.plot(history.history['accuracy'])\n",
        "plt.plot(history.history['val_accuracy'])\n",
        "plt.title('model accuracy')\n",
        "plt.ylabel('accuracy')\n",
        "plt.xlabel('epoch')\n",
        "plt.legend(['train', 'test'], loc='upper left')"
      ]
    },
    {
      "cell_type": "code",
      "execution_count": 48,
      "metadata": {},
      "outputs": [
        {
          "name": "stdout",
          "output_type": "stream",
          "text": [
            "Accuracy at 150 epochs: 57.04%\n"
          ]
        }
      ],
      "source": [
        "print(\"Accuracy at 150 epochs: {:.2f}%\".format(history.history['val_accuracy'][-1]*100))"
      ]
    },
    {
      "cell_type": "code",
      "execution_count": 35,
      "metadata": {
        "colab": {
          "base_uri": "https://localhost:8080/",
          "height": 489
        },
        "id": "WWB8SJdWEJkQ",
        "outputId": "8f303f21-e8a4-4eec-c062-bc17d833547e"
      },
      "outputs": [
        {
          "data": {
            "text/plain": [
              "<matplotlib.legend.Legend at 0x2cacc845050>"
            ]
          },
          "execution_count": 35,
          "metadata": {},
          "output_type": "execute_result"
        },
        {
          "data": {
            "image/png": "[encoded data removed]",
            "text/plain": [
              "<Figure size 640x480 with 1 Axes>"
            ]
          },
          "metadata": {},
          "output_type": "display_data"
        }
      ],
      "source": [
        "plt.plot(history.history['loss'])\n",
        "plt.plot(history.history['val_loss'])\n",
        "plt.title('model loss')\n",
        "plt.ylabel('loss')\n",
        "plt.xlabel('epoch')\n",
        "plt.legend(['train', 'test'], loc='upper left')"
      ]
    },
    {
      "cell_type": "code",
      "execution_count": 39,
      "metadata": {
        "id": "aqCnSiRILsZy"
      },
      "outputs": [
        {
          "name": "stdout",
          "output_type": "stream",
          "text": [
            "Loss at 150 epochs: 0.59\n"
          ]
        }
      ],
      "source": [
        "print(\"Loss at 150 epochs: {:.2f}\".format(history.history['loss'][-1]))"
      ]
    }
  ],
  "metadata": {
    "accelerator": "GPU",
    "colab": {
      "gpuType": "T4",
      "provenance": []
    },
    "kernelspec": {
      "display_name": "Python 3 (ipykernel)",
      "language": "python",
      "name": "python3"
    },
    "language_info": {
      "codemirror_mode": {
        "name": "ipython",
        "version": 3
      },
      "file_extension": ".py",
      "mimetype": "text/x-python",
      "name": "python",
      "nbconvert_exporter": "python",
      "pygments_lexer": "ipython3",
      "version": "3.11.4"
    }
  },
  "nbformat": 4,
  "nbformat_minor": 0
}
